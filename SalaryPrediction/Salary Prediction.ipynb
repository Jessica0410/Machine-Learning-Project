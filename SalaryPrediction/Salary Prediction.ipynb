{
 "cells": [
  {
   "cell_type": "markdown",
   "id": "07737337",
   "metadata": {},
   "source": [
    "# Import libraries"
   ]
  },
  {
   "cell_type": "code",
   "execution_count": 1,
   "id": "456ed3cc",
   "metadata": {},
   "outputs": [],
   "source": [
    "import numpy as np\n",
    "import pandas as pd\n",
    "import matplotlib.pyplot as plt\n",
    "from sklearn.linear_model import LinearRegression\n",
    "from sklearn.model_selection import train_test_split\n",
    "from sklearn.metrics import r2_score\n",
    "import math"
   ]
  },
  {
   "cell_type": "markdown",
   "id": "42dc2460",
   "metadata": {},
   "source": [
    "# Data preprocessing"
   ]
  },
  {
   "cell_type": "code",
   "execution_count": 2,
   "id": "882dd94e",
   "metadata": {
    "scrolled": true
   },
   "outputs": [
    {
     "data": {
      "text/html": [
       "<div>\n",
       "<style scoped>\n",
       "    .dataframe tbody tr th:only-of-type {\n",
       "        vertical-align: middle;\n",
       "    }\n",
       "\n",
       "    .dataframe tbody tr th {\n",
       "        vertical-align: top;\n",
       "    }\n",
       "\n",
       "    .dataframe thead th {\n",
       "        text-align: right;\n",
       "    }\n",
       "</style>\n",
       "<table border=\"1\" class=\"dataframe\">\n",
       "  <thead>\n",
       "    <tr style=\"text-align: right;\">\n",
       "      <th></th>\n",
       "      <th>Unnamed: 0</th>\n",
       "      <th>YearsExperience</th>\n",
       "      <th>Salary</th>\n",
       "    </tr>\n",
       "  </thead>\n",
       "  <tbody>\n",
       "    <tr>\n",
       "      <th>0</th>\n",
       "      <td>0</td>\n",
       "      <td>1.2</td>\n",
       "      <td>39344.0</td>\n",
       "    </tr>\n",
       "    <tr>\n",
       "      <th>1</th>\n",
       "      <td>1</td>\n",
       "      <td>1.4</td>\n",
       "      <td>46206.0</td>\n",
       "    </tr>\n",
       "    <tr>\n",
       "      <th>2</th>\n",
       "      <td>2</td>\n",
       "      <td>1.6</td>\n",
       "      <td>37732.0</td>\n",
       "    </tr>\n",
       "    <tr>\n",
       "      <th>3</th>\n",
       "      <td>3</td>\n",
       "      <td>2.1</td>\n",
       "      <td>43526.0</td>\n",
       "    </tr>\n",
       "    <tr>\n",
       "      <th>4</th>\n",
       "      <td>4</td>\n",
       "      <td>2.3</td>\n",
       "      <td>39892.0</td>\n",
       "    </tr>\n",
       "    <tr>\n",
       "      <th>5</th>\n",
       "      <td>5</td>\n",
       "      <td>3.0</td>\n",
       "      <td>56643.0</td>\n",
       "    </tr>\n",
       "    <tr>\n",
       "      <th>6</th>\n",
       "      <td>6</td>\n",
       "      <td>3.1</td>\n",
       "      <td>60151.0</td>\n",
       "    </tr>\n",
       "    <tr>\n",
       "      <th>7</th>\n",
       "      <td>7</td>\n",
       "      <td>3.3</td>\n",
       "      <td>54446.0</td>\n",
       "    </tr>\n",
       "    <tr>\n",
       "      <th>8</th>\n",
       "      <td>8</td>\n",
       "      <td>3.3</td>\n",
       "      <td>64446.0</td>\n",
       "    </tr>\n",
       "    <tr>\n",
       "      <th>9</th>\n",
       "      <td>9</td>\n",
       "      <td>3.8</td>\n",
       "      <td>57190.0</td>\n",
       "    </tr>\n",
       "    <tr>\n",
       "      <th>10</th>\n",
       "      <td>10</td>\n",
       "      <td>4.0</td>\n",
       "      <td>63219.0</td>\n",
       "    </tr>\n",
       "    <tr>\n",
       "      <th>11</th>\n",
       "      <td>11</td>\n",
       "      <td>4.1</td>\n",
       "      <td>55795.0</td>\n",
       "    </tr>\n",
       "    <tr>\n",
       "      <th>12</th>\n",
       "      <td>12</td>\n",
       "      <td>4.1</td>\n",
       "      <td>56958.0</td>\n",
       "    </tr>\n",
       "    <tr>\n",
       "      <th>13</th>\n",
       "      <td>13</td>\n",
       "      <td>4.2</td>\n",
       "      <td>57082.0</td>\n",
       "    </tr>\n",
       "    <tr>\n",
       "      <th>14</th>\n",
       "      <td>14</td>\n",
       "      <td>4.6</td>\n",
       "      <td>61112.0</td>\n",
       "    </tr>\n",
       "    <tr>\n",
       "      <th>15</th>\n",
       "      <td>15</td>\n",
       "      <td>5.0</td>\n",
       "      <td>67939.0</td>\n",
       "    </tr>\n",
       "    <tr>\n",
       "      <th>16</th>\n",
       "      <td>16</td>\n",
       "      <td>5.2</td>\n",
       "      <td>66030.0</td>\n",
       "    </tr>\n",
       "    <tr>\n",
       "      <th>17</th>\n",
       "      <td>17</td>\n",
       "      <td>5.4</td>\n",
       "      <td>83089.0</td>\n",
       "    </tr>\n",
       "    <tr>\n",
       "      <th>18</th>\n",
       "      <td>18</td>\n",
       "      <td>6.0</td>\n",
       "      <td>81364.0</td>\n",
       "    </tr>\n",
       "    <tr>\n",
       "      <th>19</th>\n",
       "      <td>19</td>\n",
       "      <td>6.1</td>\n",
       "      <td>93941.0</td>\n",
       "    </tr>\n",
       "    <tr>\n",
       "      <th>20</th>\n",
       "      <td>20</td>\n",
       "      <td>6.9</td>\n",
       "      <td>91739.0</td>\n",
       "    </tr>\n",
       "    <tr>\n",
       "      <th>21</th>\n",
       "      <td>21</td>\n",
       "      <td>7.2</td>\n",
       "      <td>98274.0</td>\n",
       "    </tr>\n",
       "    <tr>\n",
       "      <th>22</th>\n",
       "      <td>22</td>\n",
       "      <td>8.0</td>\n",
       "      <td>101303.0</td>\n",
       "    </tr>\n",
       "    <tr>\n",
       "      <th>23</th>\n",
       "      <td>23</td>\n",
       "      <td>8.3</td>\n",
       "      <td>113813.0</td>\n",
       "    </tr>\n",
       "    <tr>\n",
       "      <th>24</th>\n",
       "      <td>24</td>\n",
       "      <td>8.8</td>\n",
       "      <td>109432.0</td>\n",
       "    </tr>\n",
       "    <tr>\n",
       "      <th>25</th>\n",
       "      <td>25</td>\n",
       "      <td>9.1</td>\n",
       "      <td>105583.0</td>\n",
       "    </tr>\n",
       "    <tr>\n",
       "      <th>26</th>\n",
       "      <td>26</td>\n",
       "      <td>9.6</td>\n",
       "      <td>116970.0</td>\n",
       "    </tr>\n",
       "    <tr>\n",
       "      <th>27</th>\n",
       "      <td>27</td>\n",
       "      <td>9.7</td>\n",
       "      <td>112636.0</td>\n",
       "    </tr>\n",
       "    <tr>\n",
       "      <th>28</th>\n",
       "      <td>28</td>\n",
       "      <td>10.4</td>\n",
       "      <td>122392.0</td>\n",
       "    </tr>\n",
       "    <tr>\n",
       "      <th>29</th>\n",
       "      <td>29</td>\n",
       "      <td>10.6</td>\n",
       "      <td>121873.0</td>\n",
       "    </tr>\n",
       "  </tbody>\n",
       "</table>\n",
       "</div>"
      ],
      "text/plain": [
       "    Unnamed: 0  YearsExperience    Salary\n",
       "0            0              1.2   39344.0\n",
       "1            1              1.4   46206.0\n",
       "2            2              1.6   37732.0\n",
       "3            3              2.1   43526.0\n",
       "4            4              2.3   39892.0\n",
       "5            5              3.0   56643.0\n",
       "6            6              3.1   60151.0\n",
       "7            7              3.3   54446.0\n",
       "8            8              3.3   64446.0\n",
       "9            9              3.8   57190.0\n",
       "10          10              4.0   63219.0\n",
       "11          11              4.1   55795.0\n",
       "12          12              4.1   56958.0\n",
       "13          13              4.2   57082.0\n",
       "14          14              4.6   61112.0\n",
       "15          15              5.0   67939.0\n",
       "16          16              5.2   66030.0\n",
       "17          17              5.4   83089.0\n",
       "18          18              6.0   81364.0\n",
       "19          19              6.1   93941.0\n",
       "20          20              6.9   91739.0\n",
       "21          21              7.2   98274.0\n",
       "22          22              8.0  101303.0\n",
       "23          23              8.3  113813.0\n",
       "24          24              8.8  109432.0\n",
       "25          25              9.1  105583.0\n",
       "26          26              9.6  116970.0\n",
       "27          27              9.7  112636.0\n",
       "28          28             10.4  122392.0\n",
       "29          29             10.6  121873.0"
      ]
     },
     "execution_count": 2,
     "metadata": {},
     "output_type": "execute_result"
    }
   ],
   "source": [
    "df = pd.read_csv('Salary_dataset.csv')\n",
    "df"
   ]
  },
  {
   "cell_type": "code",
   "execution_count": 3,
   "id": "627388d0",
   "metadata": {},
   "outputs": [],
   "source": [
    "#data slicing\n",
    "X = df.iloc[:,1].values\n",
    "y = df.iloc[:,2].values"
   ]
  },
  {
   "cell_type": "code",
   "execution_count": 4,
   "id": "b26471f6",
   "metadata": {},
   "outputs": [
    {
     "data": {
      "text/plain": [
       "<matplotlib.collections.PathCollection at 0x7fed0aca9e50>"
      ]
     },
     "execution_count": 4,
     "metadata": {},
     "output_type": "execute_result"
    },
    {
     "data": {
      "image/png": "[encoded data removed]",
      "text/plain": [
       "<Figure size 640x480 with 1 Axes>"
      ]
     },
     "metadata": {},
     "output_type": "display_data"
    }
   ],
   "source": [
    "import matplotlib.pyplot as plt\n",
    "plt.title('Salary And Experience')\n",
    "plt.xlabel('Years Of Experience')\n",
    "plt.ylabel('Salary')\n",
    "plt.scatter(df.YearsExperience, df.Salary)"
   ]
  },
  {
   "cell_type": "markdown",
   "id": "d9e296d9",
   "metadata": {},
   "source": [
    "# Linear Regression Model"
   ]
  },
  {
   "cell_type": "code",
   "execution_count": 5,
   "id": "031790ad",
   "metadata": {},
   "outputs": [],
   "source": [
    "#split dataset into training and test set\n",
    "X_train,X_test,y_train,y_test = train_test_split(X,y,train_size=0.8,random_state=10)"
   ]
  },
  {
   "cell_type": "code",
   "execution_count": 6,
   "id": "0684b267",
   "metadata": {},
   "outputs": [],
   "source": [
    "#reshape from 1D to 2D array\n",
    "X_train = X_train.reshape(-1,1)\n",
    "y_train = y_train.reshape(-1,1)"
   ]
  },
  {
   "cell_type": "code",
   "execution_count": 7,
   "id": "807f09bb",
   "metadata": {},
   "outputs": [
    {
     "data": {
      "text/plain": [
       "array([[ 4.2],\n",
       "       [ 9.7],\n",
       "       [ 4.1],\n",
       "       [ 1.4],\n",
       "       [ 6.1],\n",
       "       [ 4.6],\n",
       "       [ 6. ],\n",
       "       [ 3.1],\n",
       "       [ 4.1],\n",
       "       [ 8.3],\n",
       "       [ 8.8],\n",
       "       [10.4],\n",
       "       [ 8. ],\n",
       "       [ 4. ],\n",
       "       [ 9.6],\n",
       "       [10.6],\n",
       "       [ 3.3],\n",
       "       [ 9.1],\n",
       "       [ 5.2],\n",
       "       [ 5.4],\n",
       "       [ 1.2],\n",
       "       [ 5. ],\n",
       "       [ 2.3],\n",
       "       [ 3.8]])"
      ]
     },
     "execution_count": 7,
     "metadata": {},
     "output_type": "execute_result"
    }
   ],
   "source": [
    "X_train"
   ]
  },
  {
   "cell_type": "code",
   "execution_count": 8,
   "id": "17516ab9",
   "metadata": {},
   "outputs": [
    {
     "data": {
      "text/plain": [
       "array([[ 57082.],\n",
       "       [112636.],\n",
       "       [ 56958.],\n",
       "       [ 46206.],\n",
       "       [ 93941.],\n",
       "       [ 61112.],\n",
       "       [ 81364.],\n",
       "       [ 60151.],\n",
       "       [ 55795.],\n",
       "       [113813.],\n",
       "       [109432.],\n",
       "       [122392.],\n",
       "       [101303.],\n",
       "       [ 63219.],\n",
       "       [116970.],\n",
       "       [121873.],\n",
       "       [ 64446.],\n",
       "       [105583.],\n",
       "       [ 66030.],\n",
       "       [ 83089.],\n",
       "       [ 39344.],\n",
       "       [ 67939.],\n",
       "       [ 39892.],\n",
       "       [ 57190.]])"
      ]
     },
     "execution_count": 8,
     "metadata": {},
     "output_type": "execute_result"
    }
   ],
   "source": [
    "y_train"
   ]
  },
  {
   "cell_type": "markdown",
   "id": "6c47fa11",
   "metadata": {},
   "source": [
    "## 1. construct the function on our own"
   ]
  },
  {
   "cell_type": "code",
   "execution_count": 9,
   "id": "97dbb8c4",
   "metadata": {},
   "outputs": [],
   "source": [
    "# calculate cost function\n",
    "def cost_function(x,y,w,b):\n",
    "    '''\n",
    "    x: input data array contains m examples\n",
    "    y: output data array\n",
    "    w: coefficient\n",
    "    b: intercept\n",
    "    \n",
    "    '''\n",
    "    m = x.shape[0]\n",
    "    j_wb = 0\n",
    "    \n",
    "    for i in range(m):\n",
    "        f_wb_i = w * x[i] + b\n",
    "        j_wb_i = (f_wb_i - y[i])**2\n",
    "        j_wb += j_wb_i\n",
    "    j_wb = j_wb / (2*m)\n",
    "    \n",
    "    return j_wb"
   ]
  },
  {
   "cell_type": "code",
   "execution_count": 10,
   "id": "db54ea30",
   "metadata": {},
   "outputs": [],
   "source": [
    "# calculate derivative dj_dw and dj_db\n",
    "def derivative(x,y,w,b):\n",
    "    '''\n",
    "    x: input data array contains m examples\n",
    "    y: output data array\n",
    "    w: coefficient\n",
    "    b: intercept\n",
    "    \n",
    "    dj_dw: derivative for w\n",
    "    dj_db: derivative for b\n",
    "    \n",
    "    '''\n",
    "    m = x.shape[0]\n",
    "    dj_dw = 0\n",
    "    dj_db = 0\n",
    "    \n",
    "    for i in range(m):\n",
    "        f_wb_i = w * x[i] + b\n",
    "        dj_dw_i = (f_wb_i - y[i]) * x[i]\n",
    "        dj_db_i = f_wb_i - y[i]\n",
    "        dj_dw += dj_dw_i\n",
    "        dj_db += dj_db_i\n",
    "    \n",
    "    dj_dw = dj_dw / m\n",
    "    dj_db = dj_db / m\n",
    "    \n",
    "    return dj_dw, dj_db"
   ]
  },
  {
   "cell_type": "code",
   "execution_count": 11,
   "id": "629d3954",
   "metadata": {},
   "outputs": [],
   "source": [
    "# calculate w and b using gradient descent\n",
    "def gradient_descent(x, y, w0, b0, lr, it):\n",
    "    '''\n",
    "     x: input data array contains m examples\n",
    "     y: output data array\n",
    "    w0: initial coefficient\n",
    "    b0: initial intercept\n",
    "    lr: learning rate\n",
    "    it: number of iterations\n",
    "    \n",
    "    '''\n",
    "    w = w0\n",
    "    b = b0\n",
    "    J_history = [] # recording cost function value after the iteration\n",
    "    \n",
    "    for i in range(it):\n",
    "        dj_dw, dj_db = derivative(x,y,w,b)\n",
    "        w = w - lr * dj_dw\n",
    "        b = b - lr * dj_db\n",
    "        \n",
    "        #recording cost, w and b\n",
    "        if i<100000:\n",
    "            J_history.append(cost_function(x, y, w , b))\n",
    "        if i% math.ceil(it/10)==0:\n",
    "            print(f\"Iteration: {i:4}, Cost: {float(J_history[-1]):e}, \"\n",
    "                  f\"dj_dw: {float(dj_dw):e}, dj_db: {float(dj_db):e}, \"\n",
    "                  f\"w: {float(w)}, b:{float(b)}\")\n",
    "    return w,b,J_history"
   ]
  },
  {
   "cell_type": "code",
   "execution_count": 12,
   "id": "f4727132",
   "metadata": {
    "scrolled": false
   },
   "outputs": [
    {
     "name": "stdout",
     "output_type": "stream",
     "text": [
      "Iteration:    0, Cost: 1.224465e+09, dj_dw: -5.295077e+05, dj_db: -7.907333e+04, w: 5295.076625000001, b:790.7333333333333\n",
      "Iteration: 1500, Cost: 1.857072e+07, dj_dw: 3.668206e+01, dj_db: -2.604216e+02, w: 9551.287650227976, b:23774.107101443857\n",
      "Iteration: 3000, Cost: 1.838841e+07, dj_dw: 2.170390e+00, dj_db: -1.540852e+01, w: 9368.366637170317, b:25072.741080049087\n",
      "Iteration: 4500, Cost: 1.838777e+07, dj_dw: 1.284168e-01, dj_db: -9.116856e-01, w: 9357.543636720337, b:25149.57815797612\n",
      "Iteration: 6000, Cost: 1.838777e+07, dj_dw: 7.598118e-03, dj_db: -5.394226e-02, w: 9356.903265574436, b:25154.124424777765\n",
      "Iteration: 7500, Cost: 1.838777e+07, dj_dw: 4.495625e-04, dj_db: -3.191635e-03, w: 9356.86537633971, b:25154.39341655084\n",
      "Iteration: 9000, Cost: 1.838777e+07, dj_dw: 2.659953e-05, dj_db: -1.888415e-04, w: 9356.863134523983, b:25154.409332153053\n",
      "Iteration: 10500, Cost: 1.838777e+07, dj_dw: 1.573840e-06, dj_db: -1.117329e-05, w: 9356.863001881084, b:25154.410273841342\n",
      "Iteration: 12000, Cost: 1.838777e+07, dj_dw: 9.306124e-08, dj_db: -6.611065e-07, w: 9356.862994032921, b:25154.410329558767\n",
      "Iteration: 13500, Cost: 1.838777e+07, dj_dw: 5.517222e-09, dj_db: -3.910948e-08, w: 9356.862993568562, b:25154.410332855467\n",
      "(w,b) : (9356.862993541094,25154.410333050462)\n"
     ]
    }
   ],
   "source": [
    "w0 = 0\n",
    "b0 = 0\n",
    "it = 15000\n",
    "lr = 0.01\n",
    "w,b,J_history = gradient_descent(X_train, y_train, w0, b0, lr, it)\n",
    "print(f\"(w,b) : ({float(w)},{float(b)})\")"
   ]
  },
  {
   "cell_type": "code",
   "execution_count": 13,
   "id": "165c4956",
   "metadata": {
    "scrolled": false
   },
   "outputs": [
    {
     "data": {
      "text/plain": [
       "[<matplotlib.lines.Line2D at 0x7fed0b19f250>]"
      ]
     },
     "execution_count": 13,
     "metadata": {},
     "output_type": "execute_result"
    },
    {
     "data": {
      "image/png": "[encoded data removed]",
      "text/plain": [
       "<Figure size 640x480 with 1 Axes>"
      ]
     },
     "metadata": {},
     "output_type": "display_data"
    }
   ],
   "source": [
    "#Linear regression model\n",
    "plt.title(\"Regression Model\")\n",
    "plt.xlabel(\"Year Of Experience\")\n",
    "plt.ylabel(\"Salary\")\n",
    "plt.scatter(df.YearsExperience, df.Salary)\n",
    "plt.plot(X_train, w * X_train + b)"
   ]
  },
  {
   "cell_type": "markdown",
   "id": "c18bada1",
   "metadata": {},
   "source": [
    "## 2. Use Python library sklearn "
   ]
  },
  {
   "cell_type": "code",
   "execution_count": 14,
   "id": "63a0da24",
   "metadata": {},
   "outputs": [
    {
     "data": {
      "text/html": [
       "<style>#sk-container-id-1 {color: black;background-color: white;}#sk-container-id-1 pre{padding: 0;}#sk-container-id-1 div.sk-toggleable {background-color: white;}#sk-container-id-1 label.sk-toggleable__label {cursor: pointer;display: block;width: 100%;margin-bottom: 0;padding: 0.3em;box-sizing: border-box;text-align: center;}#sk-container-id-1 label.sk-toggleable__label-arrow:before {content: \"▸\";float: left;margin-right: 0.25em;color: #696969;}#sk-container-id-1 label.sk-toggleable__label-arrow:hover:before {color: black;}#sk-container-id-1 div.sk-estimator:hover label.sk-toggleable__label-arrow:before {color: black;}#sk-container-id-1 div.sk-toggleable__content {max-height: 0;max-width: 0;overflow: hidden;text-align: left;background-color: #f0f8ff;}#sk-container-id-1 div.sk-toggleable__content pre {margin: 0.2em;color: black;border-radius: 0.25em;background-color: #f0f8ff;}#sk-container-id-1 input.sk-toggleable__control:checked~div.sk-toggleable__content {max-height: 200px;max-width: 100%;overflow: auto;}#sk-container-id-1 input.sk-toggleable__control:checked~label.sk-toggleable__label-arrow:before {content: \"▾\";}#sk-container-id-1 div.sk-estimator input.sk-toggleable__control:checked~label.sk-toggleable__label {background-color: #d4ebff;}#sk-container-id-1 div.sk-label input.sk-toggleable__control:checked~label.sk-toggleable__label {background-color: #d4ebff;}#sk-container-id-1 input.sk-hidden--visually {border: 0;clip: rect(1px 1px 1px 1px);clip: rect(1px, 1px, 1px, 1px);height: 1px;margin: -1px;overflow: hidden;padding: 0;position: absolute;width: 1px;}#sk-container-id-1 div.sk-estimator {font-family: monospace;background-color: #f0f8ff;border: 1px dotted black;border-radius: 0.25em;box-sizing: border-box;margin-bottom: 0.5em;}#sk-container-id-1 div.sk-estimator:hover {background-color: #d4ebff;}#sk-container-id-1 div.sk-parallel-item::after {content: \"\";width: 100%;border-bottom: 1px solid gray;flex-grow: 1;}#sk-container-id-1 div.sk-label:hover label.sk-toggleable__label {background-color: #d4ebff;}#sk-container-id-1 div.sk-serial::before {content: \"\";position: absolute;border-left: 1px solid gray;box-sizing: border-box;top: 0;bottom: 0;left: 50%;z-index: 0;}#sk-container-id-1 div.sk-serial {display: flex;flex-direction: column;align-items: center;background-color: white;padding-right: 0.2em;padding-left: 0.2em;position: relative;}#sk-container-id-1 div.sk-item {position: relative;z-index: 1;}#sk-container-id-1 div.sk-parallel {display: flex;align-items: stretch;justify-content: center;background-color: white;position: relative;}#sk-container-id-1 div.sk-item::before, #sk-container-id-1 div.sk-parallel-item::before {content: \"\";position: absolute;border-left: 1px solid gray;box-sizing: border-box;top: 0;bottom: 0;left: 50%;z-index: -1;}#sk-container-id-1 div.sk-parallel-item {display: flex;flex-direction: column;z-index: 1;position: relative;background-color: white;}#sk-container-id-1 div.sk-parallel-item:first-child::after {align-self: flex-end;width: 50%;}#sk-container-id-1 div.sk-parallel-item:last-child::after {align-self: flex-start;width: 50%;}#sk-container-id-1 div.sk-parallel-item:only-child::after {width: 0;}#sk-container-id-1 div.sk-dashed-wrapped {border: 1px dashed gray;margin: 0 0.4em 0.5em 0.4em;box-sizing: border-box;padding-bottom: 0.4em;background-color: white;}#sk-container-id-1 div.sk-label label {font-family: monospace;font-weight: bold;display: inline-block;line-height: 1.2em;}#sk-container-id-1 div.sk-label-container {text-align: center;}#sk-container-id-1 div.sk-container {/* jupyter's `normalize.less` sets `[hidden] { display: none; }` but bootstrap.min.css set `[hidden] { display: none !important; }` so we also need the `!important` here to be able to override the default hidden behavior on the sphinx rendered scikit-learn.org. See: https://github.com/scikit-learn/scikit-learn/issues/21755 */display: inline-block !important;position: relative;}#sk-container-id-1 div.sk-text-repr-fallback {display: none;}</style><div id=\"sk-container-id-1\" class=\"sk-top-container\"><div class=\"sk-text-repr-fallback\"><pre>LinearRegression()</pre><b>In a Jupyter environment, please rerun this cell to show the HTML representation or trust the notebook. <br />On GitHub, the HTML representation is unable to render, please try loading this page with nbviewer.org.</b></div><div class=\"sk-container\" hidden><div class=\"sk-item\"><div class=\"sk-estimator sk-toggleable\"><input class=\"sk-toggleable__control sk-hidden--visually\" id=\"sk-estimator-id-1\" type=\"checkbox\" checked><label for=\"sk-estimator-id-1\" class=\"sk-toggleable__label sk-toggleable__label-arrow\">LinearRegression</label><div class=\"sk-toggleable__content\"><pre>LinearRegression()</pre></div></div></div></div></div>"
      ],
      "text/plain": [
       "LinearRegression()"
      ]
     },
     "execution_count": 14,
     "metadata": {},
     "output_type": "execute_result"
    }
   ],
   "source": [
    "#Use sklearn \n",
    "model = LinearRegression()\n",
    "model.fit(X_train,y_train)"
   ]
  },
  {
   "cell_type": "code",
   "execution_count": 15,
   "id": "e9e0b0b1",
   "metadata": {},
   "outputs": [
    {
     "data": {
      "text/plain": [
       "array([[9356.86299354]])"
      ]
     },
     "execution_count": 15,
     "metadata": {},
     "output_type": "execute_result"
    }
   ],
   "source": [
    "model.coef_ #w"
   ]
  },
  {
   "cell_type": "code",
   "execution_count": 16,
   "id": "968b3160",
   "metadata": {},
   "outputs": [
    {
     "data": {
      "text/plain": [
       "array([25154.41033306])"
      ]
     },
     "execution_count": 16,
     "metadata": {},
     "output_type": "execute_result"
    }
   ],
   "source": [
    "model.intercept_ #b"
   ]
  },
  {
   "cell_type": "code",
   "execution_count": 17,
   "id": "c038e013",
   "metadata": {
    "scrolled": true
   },
   "outputs": [
    {
     "data": {
      "text/plain": [
       "[<matplotlib.lines.Line2D at 0x7fed0b4d4ac0>]"
      ]
     },
     "execution_count": 17,
     "metadata": {},
     "output_type": "execute_result"
    },
    {
     "data": {
      "image/png": "[encoded data removed]",
      "text/plain": [
       "<Figure size 640x480 with 1 Axes>"
      ]
     },
     "metadata": {},
     "output_type": "display_data"
    }
   ],
   "source": [
    "#Linear regression model\n",
    "plt.title(\"Regression Model\")\n",
    "plt.xlabel(\"Year Of Experience\")\n",
    "plt.ylabel(\"Salary\")\n",
    "plt.scatter(df.YearsExperience, df.Salary)\n",
    "plt.plot(X_train, model.predict(X_train))"
   ]
  },
  {
   "cell_type": "markdown",
   "id": "9b50e144",
   "metadata": {},
   "source": [
    "# Test the model"
   ]
  },
  {
   "cell_type": "code",
   "execution_count": 18,
   "id": "548af909",
   "metadata": {},
   "outputs": [],
   "source": [
    "#Reshape test set\n",
    "X_test = X_test.reshape(-1,1)\n",
    "y_test = y_test.reshape(-1,1)"
   ]
  },
  {
   "cell_type": "code",
   "execution_count": 19,
   "id": "15f31f57",
   "metadata": {},
   "outputs": [
    {
     "data": {
      "text/plain": [
       "array([[89716.76498848],\n",
       "       [56032.05821174],\n",
       "       [53224.99931367],\n",
       "       [40125.39112272],\n",
       "       [44803.82261949],\n",
       "       [92523.82388655]])"
      ]
     },
     "execution_count": 19,
     "metadata": {},
     "output_type": "execute_result"
    }
   ],
   "source": [
    "#mannual coding model prediction\n",
    "y_pred1 = w * X_test + b\n",
    "y_pred1"
   ]
  },
  {
   "cell_type": "code",
   "execution_count": 20,
   "id": "2b322a5a",
   "metadata": {},
   "outputs": [
    {
     "data": {
      "text/plain": [
       "array([[89716.76498848],\n",
       "       [56032.05821174],\n",
       "       [53224.99931368],\n",
       "       [40125.39112273],\n",
       "       [44803.8226195 ],\n",
       "       [92523.82388655]])"
      ]
     },
     "execution_count": 20,
     "metadata": {},
     "output_type": "execute_result"
    }
   ],
   "source": [
    "#sklearn model prediction\n",
    "y_pred2 = model.predict(X_test)\n",
    "y_pred2"
   ]
  },
  {
   "cell_type": "markdown",
   "id": "35aa7797",
   "metadata": {},
   "source": [
    "# Model evaluation"
   ]
  },
  {
   "cell_type": "code",
   "execution_count": 21,
   "id": "e74cc43e",
   "metadata": {},
   "outputs": [
    {
     "data": {
      "text/plain": [
       "0.981642348207038"
      ]
     },
     "execution_count": 21,
     "metadata": {},
     "output_type": "execute_result"
    }
   ],
   "source": [
    "#mannual coding model accuracy\n",
    "acc1 = r2_score(y_test, y_pred1)\n",
    "acc1"
   ]
  },
  {
   "cell_type": "code",
   "execution_count": 22,
   "id": "01fe9b70",
   "metadata": {},
   "outputs": [
    {
     "data": {
      "text/plain": [
       "0.9816423482070253"
      ]
     },
     "execution_count": 22,
     "metadata": {},
     "output_type": "execute_result"
    }
   ],
   "source": [
    "#sklearn model accuracy\n",
    "acc2 = r2_score(y_test,y_pred2) \n",
    "acc2"
   ]
  }
 ],
 "metadata": {
  "kernelspec": {
   "display_name": "Python 3 (ipykernel)",
   "language": "python",
   "name": "python3"
  },
  "language_info": {
   "codemirror_mode": {
    "name": "ipython",
    "version": 3
   },
   "file_extension": ".py",
   "mimetype": "text/x-python",
   "name": "python",
   "nbconvert_exporter": "python",
   "pygments_lexer": "ipython3",
   "version": "3.9.12"
  }
 },
 "nbformat": 4,
 "nbformat_minor": 5
}
